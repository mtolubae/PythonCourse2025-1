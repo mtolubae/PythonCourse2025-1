{
 "cells": [
  {
   "cell_type": "code",
   "execution_count": 3,
   "metadata": {},
   "outputs": [
    {
     "name": "stdout",
     "output_type": "stream",
     "text": [
      "[] empty list\n",
      "['apple', 'orange', 'lemon'] fruit list\n"
     ]
    }
   ],
   "source": [
    "lst = []\n",
    "lst2 = [\"apple\", \"orange\", \"lemon\"]\n",
    "print(lst, \"empty list\")\n",
    "print(lst2, \"fruit list\")"
   ]
  },
  {
   "cell_type": "code",
   "execution_count": 5,
   "metadata": {},
   "outputs": [
    {
     "name": "stdout",
     "output_type": "stream",
     "text": [
      "first element of the list elina\n",
      "last element of the list asel\n",
      "last element of the list  asel\n"
     ]
    }
   ],
   "source": [
    "userList = [\"elina\", \"ali\", \"asel\"]\n",
    "print(\"first element of the list\", userList[0])\n",
    "print(\"last element of the list\", userList[-1])\n",
    "size = len(userList)\n",
    "print(\"last element of the list \", userList[size-1])"
   ]
  },
  {
   "cell_type": "code",
   "execution_count": 6,
   "metadata": {},
   "outputs": [
    {
     "name": "stdout",
     "output_type": "stream",
     "text": [
      "[1, 3.14, 'name', True, ('name', '1')]\n"
     ]
    }
   ],
   "source": [
    "lst2 = [1,3.14, \"name\", True, (\"name\",\"1\")]\n",
    "print(lst2)"
   ]
  },
  {
   "cell_type": "code",
   "execution_count": 10,
   "metadata": {},
   "outputs": [
    {
     "name": "stdout",
     "output_type": "stream",
     "text": [
      "['apple', 'mango', 'melon', 'kiwi', 'banana']\n",
      "['kiwi', 'banana', 'pear', 'cherry']\n"
     ]
    }
   ],
   "source": [
    "fruits = [\"apple\", \"mango\", \"melon\", \"kiwi\", \"banana\", \"pear\", \"cherry\"]\n",
    "print(fruits[:5])\n",
    "print(fruits[-4:])"
   ]
  },
  {
   "cell_type": "code",
   "execution_count": null,
   "metadata": {},
   "outputs": [
    {
     "name": "stdout",
     "output_type": "stream",
     "text": [
      "['apple', 'mango', 'melon', 'kiwi', 'banana', 'pear', 'cherry', 'apricot']\n"
     ]
    }
   ],
   "source": [
    "#добавление в лист\n",
    "if \"apricot\" not in fruits:\n",
    "    fruits.append(\"apricot\")\n",
    "print(fruits)   "
   ]
  },
  {
   "cell_type": "code",
   "execution_count": 16,
   "metadata": {},
   "outputs": [
    {
     "name": "stdout",
     "output_type": "stream",
     "text": [
      "['apple', 'mango', 'banana', 'pear']\n"
     ]
    }
   ],
   "source": [
    "#удаление c list\n",
    "#deletedFruit = fruits.pop()\n",
    "#print(deletedFruit)\n",
    "\n",
    "#deletedFruit = fruits.pop(2)\n",
    "#print(deletedFruit, fruits)\n",
    "\n",
    "deletedFruit = fruits.remove(\"kiwi\")\n",
    "print(fruits)"
   ]
  },
  {
   "cell_type": "code",
   "execution_count": 17,
   "metadata": {},
   "outputs": [
    {
     "name": "stdout",
     "output_type": "stream",
     "text": [
      "index = 0 , name= ali\n",
      "index = 1 , name= elina\n",
      "index = 2 , name= timur\n",
      "index = 3 , name= asel\n",
      "index = 4 , name= rima\n",
      "index = 5 , name= nazima\n",
      "index = 6 , name= bermet\n"
     ]
    }
   ],
   "source": [
    "#for loops\n",
    "userList = [\"ali\", \"elina\", \"timur\", \"asel\", \"rima\", \"nazima\", \"bermet\"]\n",
    "\n",
    "#for with indices\n",
    "for i in range(len(userList)):\n",
    "    print(\"index =\",i, \", name=\", userList[i])"
   ]
  },
  {
   "cell_type": "code",
   "execution_count": 18,
   "metadata": {},
   "outputs": [
    {
     "name": "stdout",
     "output_type": "stream",
     "text": [
      "ali\n",
      "elina\n",
      "timur\n",
      "asel\n",
      "rima\n",
      "nazima\n",
      "bermet\n"
     ]
    }
   ],
   "source": [
    "#2. for loop\n",
    "for i in userList:\n",
    "    print(i)"
   ]
  },
  {
   "cell_type": "code",
   "execution_count": 22,
   "metadata": {},
   "outputs": [
    {
     "name": "stdout",
     "output_type": "stream",
     "text": [
      "index = 0 , name= ali\n",
      "index = 1 , name= elina\n",
      "index = 2 , name= timur\n",
      "index = 3 , name= asel\n",
      "index = 4 , name= rima\n",
      "index = 5 , name= nazima\n",
      "index = 6 , name= bermet\n"
     ]
    }
   ],
   "source": [
    "#while loop\n",
    "i=0\n",
    "while i<len(userList):\n",
    "    print(\"index =\",i, \", name=\", userList[i])\n",
    "    i = i+1"
   ]
  },
  {
   "cell_type": "code",
   "execution_count": 27,
   "metadata": {},
   "outputs": [
    {
     "name": "stdout",
     "output_type": "stream",
     "text": [
      "['elina', 'asel', 'nazima']\n"
     ]
    }
   ],
   "source": [
    "userList = [\"ali\", \"elina\", \"timur\", \"asel\", \"rima\", \"nazima\", \"bermet\"]\n",
    "def removeEvenIndices(lst):\n",
    "    for i in range(len(lst)-1,-1,-1):\n",
    "        if i%2 == 0:\n",
    "            lst.pop(i)\n",
    "    print(lst)\n",
    "removeEvenIndices(userList)\n",
    "\n"
   ]
  },
  {
   "cell_type": "code",
   "execution_count": 1,
   "metadata": {},
   "outputs": [
    {
     "name": "stdout",
     "output_type": "stream",
     "text": [
      "ali\n",
      "elina\n",
      "timur\n",
      "asel\n",
      "rima\n",
      "nazima\n",
      "bermet\n",
      "ali\n",
      "elina\n",
      "timur\n",
      "asel\n",
      "rima\n",
      "nazima\n",
      "bermet\n"
     ]
    }
   ],
   "source": [
    "#Iterate with for Loop: Print each element in a list using a for loop.\n",
    "userList = [\"ali\", \"elina\", \"timur\", \"asel\", \"rima\", \"nazima\", \"bermet\"]\n",
    "for i in range(len(userList)):\n",
    "    print(userList[i])\n",
    "\n",
    "for i in userList:\n",
    "    print(i)"
   ]
  },
  {
   "cell_type": "code",
   "execution_count": 2,
   "metadata": {},
   "outputs": [
    {
     "name": "stdout",
     "output_type": "stream",
     "text": [
      "ali\n",
      "elina\n",
      "timur\n",
      "asel\n",
      "rima\n",
      "nazima\n",
      "bermet\n"
     ]
    }
   ],
   "source": [
    "#Iterate with while Loop: Print each element in a list using a while loop.\n",
    "i=0\n",
    "while i<len(userList):\n",
    "    print(userList[i])\n",
    "    i=i+1"
   ]
  },
  {
   "cell_type": "code",
   "execution_count": 3,
   "metadata": {},
   "outputs": [
    {
     "name": "stdout",
     "output_type": "stream",
     "text": [
      "55\n"
     ]
    }
   ],
   "source": [
    "#Sum of List Elements: Write a function that takes a list of numbers and returns their sum.\n",
    "def sum(lst):\n",
    "    summa=0\n",
    "    for i in lst:\n",
    "        summa=summa+i\n",
    "    return summa\n",
    "\n",
    "array = [1,2,3,4,5,6,7,8,9,10]\n",
    "print(sum(array))"
   ]
  },
  {
   "cell_type": "code",
   "execution_count": null,
   "metadata": {},
   "outputs": [
    {
     "name": "stdout",
     "output_type": "stream",
     "text": [
      "5\n"
     ]
    }
   ],
   "source": [
    "#Count Even Numbers: Count how many even numbers are in a given list.\n",
    "#array = [1,2,3,4,5,6,7,8,9,10]\n",
    "array = [1,4,6,3,1,10,5,7,8,2]\n",
    "def countEvenNumbers(lst):\n",
    "    counter=0\n",
    "    for i in lst:\n",
    "        if(i%2 == 0):    #i%2!=1\n",
    "            counter +=1  #counter=counter+1\n",
    "    return counter \n",
    "print(countEvenNumbers(array))   "
   ]
  },
  {
   "cell_type": "code",
   "execution_count": null,
   "metadata": {},
   "outputs": [
    {
     "name": "stdout",
     "output_type": "stream",
     "text": [
      "[2, 7, 10, 3, 4]\n"
     ]
    }
   ],
   "source": [
    "#Reverse a List: Reverse a given list without using .reverse() or slicing ([::-1]).\n",
    "#array = [1,2,3,4,5,6,7,8,9,10]\n",
    "array = [1,4,6,3,1,10,5,7,8,2]\n",
    "#array.reverse()\n",
    "#print(array)\n",
    "\n",
    "#print(array[::-1])\n",
    "\n",
    "def reverseArray(lst):\n",
    "    lst2=[]\n",
    "    for i in range(len(lst)-1,-1,-1):\n",
    "        lst2.append(lst[i])\n",
    "    return lst2\n",
    "\n",
    "print(reverseArray(array))"
   ]
  },
  {
   "cell_type": "code",
   "execution_count": 18,
   "metadata": {},
   "outputs": [
    {
     "name": "stdout",
     "output_type": "stream",
     "text": [
      "max value of the array= 8\n"
     ]
    }
   ],
   "source": [
    "#Find Maximum Value: Write a function to find the maximum value in a list.\n",
    "array = [1,4,6,3,1,-1,5,7,8,2]\n",
    "def maxValue(lst):\n",
    "    max=lst[1]\n",
    "    # for i in range(len(lst)):\n",
    "    #     if(lst[i]>max):\n",
    "    #         max=lst[i]\n",
    "    \n",
    "    #print(max(lst))\n",
    "\n",
    "    for i in lst:\n",
    "        if(i>max):\n",
    "            max = i\n",
    "\n",
    "    print(\"max value of the array=\",max)\n",
    "\n",
    "maxValue(array)"
   ]
  },
  {
   "cell_type": "code",
   "execution_count": 22,
   "metadata": {},
   "outputs": [
    {
     "name": "stdout",
     "output_type": "stream",
     "text": [
      "-1\n"
     ]
    }
   ],
   "source": [
    "#List Index Lookup: Given a list and an element, return the index of the element (or -1 if not found).\n",
    "array = [1,4,6,3,1,-1,5,7,8,2]\n",
    "elem = 0\n",
    "def findIndex(lst,number):\n",
    "    for i in range(len(lst)):\n",
    "        if(lst[i]==number):\n",
    "            return i\n",
    "    \n",
    "    return -1\n",
    "\n",
    "print(findIndex(array,elem))"
   ]
  },
  {
   "cell_type": "code",
   "execution_count": 23,
   "metadata": {},
   "outputs": [
    {
     "name": "stdout",
     "output_type": "stream",
     "text": [
      "[8, 7, 6, 9]\n"
     ]
    }
   ],
   "source": [
    "#Sum of Digits: Given a list of numbers, create a new list with the sum of the digits of each number.\n",
    "array = [53,16,105,1530]\n",
    "\n",
    "def sumOfDigits(lst):\n",
    "    sumArray=[]\n",
    "    for i in lst:\n",
    "        strElement = str(i)\n",
    "        #\"privet\" = [\"p\",\"r\",\"i\",\"v\",\"e\",\"t\"]\n",
    "        #\"53\"\n",
    "        summa=0\n",
    "        for j in strElement:\n",
    "            intElement = int(j)\n",
    "            summa = summa+intElement\n",
    "        sumArray.append(summa)\n",
    "    return sumArray\n",
    "\n",
    "print(sumOfDigits(array))"
   ]
  },
  {
   "cell_type": "code",
   "execution_count": 26,
   "metadata": {},
   "outputs": [
    {
     "name": "stdout",
     "output_type": "stream",
     "text": [
      "[8, 7, 6, 9]\n"
     ]
    }
   ],
   "source": [
    "array = [53,16,105,1530]\n",
    "def sumOfDigits(lst):\n",
    "    lst2=[]\n",
    "    for i in lst:\n",
    "        newNumber = i\n",
    "        ostatok=0\n",
    "        while(newNumber>0):\n",
    "            ostatok += newNumber%10\n",
    "            newNumber = newNumber//10\n",
    "        lst2.append(ostatok)\n",
    "    return lst2\n",
    "print(sumOfDigits(array))"
   ]
  },
  {
   "cell_type": "code",
   "execution_count": null,
   "metadata": {},
   "outputs": [],
   "source": [
    "#Find Duplicates in a List: Return a list of duplicate elements in a given list.\n",
    "array = [1,4,6,3,1,-1,5,7,8,2,3]\n",
    "\n",
    "def findDupByIndex(lst):\n",
    "    array2=[]\n",
    "    for i in lst:\n",
    "        n=i\n",
    "        lst.remove(i)\n",
    "        if(n in lst):\n",
    "            array2.append(n)\n",
    "    return array2"
   ]
  },
  {
   "cell_type": "code",
   "execution_count": 28,
   "metadata": {},
   "outputs": [
    {
     "name": "stdout",
     "output_type": "stream",
     "text": [
      "[1, 3]\n"
     ]
    }
   ],
   "source": [
    "array = [1,4,6,3,1,-1,5,7,8,2,3]\n",
    "def findDupbyTwoLoops(lst):\n",
    "    array2=[]\n",
    "    for i in range(len(lst)):\n",
    "        for j in range(len(lst)):\n",
    "            if(i==j):\n",
    "                continue\n",
    "            else:\n",
    "                if(lst[i]==lst[j]):\n",
    "                    if(lst[i] not in array2):\n",
    "                        array2.append(lst[i])\n",
    "    return array2\n",
    "print(findDupbyTwoLoops(array))"
   ]
  },
  {
   "cell_type": "code",
   "execution_count": null,
   "metadata": {},
   "outputs": [
    {
     "name": "stdout",
     "output_type": "stream",
     "text": [
      "[1, 3]\n"
     ]
    }
   ],
   "source": [
    "#dict\n",
    "array = [1,4,6,3,1,-1,5,7,8,2,3]\n",
    "def findDupByDict(lst):\n",
    "    d = {}\n",
    "    array2 =[]\n",
    "    for i in lst:\n",
    "        if(i in d):\n",
    "            d[i]+=1\n",
    "        else:\n",
    "            d[i]=0\n",
    "\n",
    "    for key,value in d.items():\n",
    "        if(value>0):\n",
    "            array2.append(key)\n",
    "    return array2\n",
    "\n",
    "print(findDupByDict(array))"
   ]
  },
  {
   "cell_type": "code",
   "execution_count": null,
   "metadata": {},
   "outputs": [],
   "source": [
    "#sort"
   ]
  },
  {
   "cell_type": "code",
   "execution_count": null,
   "metadata": {},
   "outputs": [],
   "source": [
    "#count"
   ]
  }
 ],
 "metadata": {
  "kernelspec": {
   "display_name": "Python 3",
   "language": "python",
   "name": "python3"
  },
  "language_info": {
   "codemirror_mode": {
    "name": "ipython",
    "version": 3
   },
   "file_extension": ".py",
   "mimetype": "text/x-python",
   "name": "python",
   "nbconvert_exporter": "python",
   "pygments_lexer": "ipython3",
   "version": "3.11.9"
  }
 },
 "nbformat": 4,
 "nbformat_minor": 2
}
