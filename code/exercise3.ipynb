{
 "cells": [
  {
   "cell_type": "code",
   "execution_count": 3,
   "metadata": {},
   "outputs": [
    {
     "name": "stdout",
     "output_type": "stream",
     "text": [
      "[] empty list\n",
      "['apple', 'orange', 'lemon'] fruit list\n"
     ]
    }
   ],
   "source": [
    "lst = []\n",
    "lst2 = [\"apple\", \"orange\", \"lemon\"]\n",
    "print(lst, \"empty list\")\n",
    "print(lst2, \"fruit list\")"
   ]
  },
  {
   "cell_type": "code",
   "execution_count": 5,
   "metadata": {},
   "outputs": [
    {
     "name": "stdout",
     "output_type": "stream",
     "text": [
      "first element of the list elina\n",
      "last element of the list asel\n",
      "last element of the list  asel\n"
     ]
    }
   ],
   "source": [
    "userList = [\"elina\", \"ali\", \"asel\"]\n",
    "print(\"first element of the list\", userList[0])\n",
    "print(\"last element of the list\", userList[-1])\n",
    "size = len(userList)\n",
    "print(\"last element of the list \", userList[size-1])"
   ]
  },
  {
   "cell_type": "code",
   "execution_count": 6,
   "metadata": {},
   "outputs": [
    {
     "name": "stdout",
     "output_type": "stream",
     "text": [
      "[1, 3.14, 'name', True, ('name', '1')]\n"
     ]
    }
   ],
   "source": [
    "lst2 = [1,3.14, \"name\", True, (\"name\",\"1\")]\n",
    "print(lst2)"
   ]
  },
  {
   "cell_type": "code",
   "execution_count": 10,
   "metadata": {},
   "outputs": [
    {
     "name": "stdout",
     "output_type": "stream",
     "text": [
      "['apple', 'mango', 'melon', 'kiwi', 'banana']\n",
      "['kiwi', 'banana', 'pear', 'cherry']\n"
     ]
    }
   ],
   "source": [
    "fruits = [\"apple\", \"mango\", \"melon\", \"kiwi\", \"banana\", \"pear\", \"cherry\"]\n",
    "print(fruits[:5])\n",
    "print(fruits[-4:])"
   ]
  },
  {
   "cell_type": "code",
   "execution_count": null,
   "metadata": {},
   "outputs": [
    {
     "name": "stdout",
     "output_type": "stream",
     "text": [
      "['apple', 'mango', 'melon', 'kiwi', 'banana', 'pear', 'cherry', 'apricot']\n"
     ]
    }
   ],
   "source": [
    "#добавление в лист\n",
    "if \"apricot\" not in fruits:\n",
    "    fruits.append(\"apricot\")\n",
    "print(fruits)   "
   ]
  },
  {
   "cell_type": "code",
   "execution_count": 16,
   "metadata": {},
   "outputs": [
    {
     "name": "stdout",
     "output_type": "stream",
     "text": [
      "['apple', 'mango', 'banana', 'pear']\n"
     ]
    }
   ],
   "source": [
    "#удаление c list\n",
    "#deletedFruit = fruits.pop()\n",
    "#print(deletedFruit)\n",
    "\n",
    "#deletedFruit = fruits.pop(2)\n",
    "#print(deletedFruit, fruits)\n",
    "\n",
    "deletedFruit = fruits.remove(\"kiwi\")\n",
    "print(fruits)"
   ]
  },
  {
   "cell_type": "code",
   "execution_count": 17,
   "metadata": {},
   "outputs": [
    {
     "name": "stdout",
     "output_type": "stream",
     "text": [
      "index = 0 , name= ali\n",
      "index = 1 , name= elina\n",
      "index = 2 , name= timur\n",
      "index = 3 , name= asel\n",
      "index = 4 , name= rima\n",
      "index = 5 , name= nazima\n",
      "index = 6 , name= bermet\n"
     ]
    }
   ],
   "source": [
    "#for loops\n",
    "userList = [\"ali\", \"elina\", \"timur\", \"asel\", \"rima\", \"nazima\", \"bermet\"]\n",
    "\n",
    "#for with indices\n",
    "for i in range(len(userList)):\n",
    "    print(\"index =\",i, \", name=\", userList[i])"
   ]
  },
  {
   "cell_type": "code",
   "execution_count": 18,
   "metadata": {},
   "outputs": [
    {
     "name": "stdout",
     "output_type": "stream",
     "text": [
      "ali\n",
      "elina\n",
      "timur\n",
      "asel\n",
      "rima\n",
      "nazima\n",
      "bermet\n"
     ]
    }
   ],
   "source": [
    "#2. for loop\n",
    "for i in userList:\n",
    "    print(i)"
   ]
  },
  {
   "cell_type": "code",
   "execution_count": 22,
   "metadata": {},
   "outputs": [
    {
     "name": "stdout",
     "output_type": "stream",
     "text": [
      "index = 0 , name= ali\n",
      "index = 1 , name= elina\n",
      "index = 2 , name= timur\n",
      "index = 3 , name= asel\n",
      "index = 4 , name= rima\n",
      "index = 5 , name= nazima\n",
      "index = 6 , name= bermet\n"
     ]
    }
   ],
   "source": [
    "#while loop\n",
    "i=0\n",
    "while i<len(userList):\n",
    "    print(\"index =\",i, \", name=\", userList[i])\n",
    "    i = i+1"
   ]
  },
  {
   "cell_type": "code",
   "execution_count": 27,
   "metadata": {},
   "outputs": [
    {
     "name": "stdout",
     "output_type": "stream",
     "text": [
      "['elina', 'asel', 'nazima']\n"
     ]
    }
   ],
   "source": [
    "userList = [\"ali\", \"elina\", \"timur\", \"asel\", \"rima\", \"nazima\", \"bermet\"]\n",
    "def removeEvenIndices(lst):\n",
    "    for i in range(len(lst)-1,-1,-1):\n",
    "        if i%2 == 0:\n",
    "            lst.pop(i)\n",
    "    print(lst)\n",
    "removeEvenIndices(userList)\n",
    "\n"
   ]
  },
  {
   "cell_type": "code",
   "execution_count": null,
   "metadata": {},
   "outputs": [],
   "source": []
  }
 ],
 "metadata": {
  "kernelspec": {
   "display_name": "Python 3",
   "language": "python",
   "name": "python3"
  },
  "language_info": {
   "codemirror_mode": {
    "name": "ipython",
    "version": 3
   },
   "file_extension": ".py",
   "mimetype": "text/x-python",
   "name": "python",
   "nbconvert_exporter": "python",
   "pygments_lexer": "ipython3",
   "version": "3.11.9"
  }
 },
 "nbformat": 4,
 "nbformat_minor": 2
}
